{
 "cells": [
  {
   "cell_type": "markdown",
   "metadata": {
    "id": "y-8rMq6JigP5"
   },
   "source": [
    "<p><img alt=\"Colaboratory logo\" height=\"45px\" src=\"https://www.quantreo.com/wp-content/uploads/2021/10/Original-on-Transparent.png\" align=\"left\" hspace=\"10px\" vspace=\"0px\"></p>\n",
    "\n",
    "# Descriptive statistics\n",
    "This chapter will explain the most important statistics to describe a dataset in the financial world. Indeed, these methods are helpful in portfolio management, financial analysis, and trading.\n",
    "\n",
    "<br>\n",
    "\n",
    "### After this Chapter you will be able to:\n",
    "* Compute and understand how to interprate the mean\n",
    "* Compute and understand how to interprate the median\n",
    "* Compute and understand how to interprate mode\n",
    "* Compute and understand how to interprate the variance\n",
    "* Compute and understand how to interprate the standard  deviation\n",
    "* Compute and understand how to interprate the covariance\n",
    "* Compute and understand how to interprate the variance-covariance matrix\n",
    "* Compute and understand how to interprate the skweness ?\n",
    "* Compute and understand how to interprate the kurtosis ? \n",
    "\n",
    "<br>\n",
    "<br>\n",
    "<br>\n",
    "\n",
    "### Exercises (Trading / Portfolio management):\n",
    "* Compute the risk/return of a financial asset\n",
    "* Compute the correlation between asset properly\n",
    "\n",
    "\n",
    "\n",
    "\n",
    "\n",
    "<br>\n",
    "<br>\n",
    "\n",
    "💰Join our community: https://discord.gg/wXjNPAc5BH\n",
    "\n",
    "📚Read our book: https://www.amazon.com/gp/product/B09HG18CYL \n",
    "\n",
    "🖥️Quantreo's YouTube channel: https://www.youtube.com/channel/UCp7jckfiEglNf_Gj62VR0pw"
   ]
  },
  {
   "cell_type": "code",
   "execution_count": 2,
   "metadata": {
    "colab": {
     "base_uri": "https://localhost:8080/"
    },
    "id": "nFCPEnthiKDO",
    "outputId": "53baec39-7713-4f95-e161-89e3a07ce1f8"
   },
   "outputs": [
    {
     "name": "stdout",
     "output_type": "stream",
     "text": [
      "Requirement already satisfied: yfinance in c:\\users\\gleb\\anaconda3\\lib\\site-packages (0.1.87)\n",
      "Requirement already satisfied: appdirs>=1.4.4 in c:\\users\\gleb\\anaconda3\\lib\\site-packages (from yfinance) (1.4.4)\n",
      "Requirement already satisfied: multitasking>=0.0.7 in c:\\users\\gleb\\anaconda3\\lib\\site-packages (from yfinance) (0.0.11)\n",
      "Requirement already satisfied: pandas>=0.24.0 in c:\\users\\gleb\\anaconda3\\lib\\site-packages (from yfinance) (1.4.2)\n",
      "Requirement already satisfied: requests>=2.26 in c:\\users\\gleb\\anaconda3\\lib\\site-packages (from yfinance) (2.27.1)\n",
      "Requirement already satisfied: lxml>=4.5.1 in c:\\users\\gleb\\anaconda3\\lib\\site-packages (from yfinance) (4.8.0)\n",
      "Requirement already satisfied: numpy>=1.15 in c:\\users\\gleb\\anaconda3\\lib\\site-packages (from yfinance) (1.21.5)\n",
      "Requirement already satisfied: python-dateutil>=2.8.1 in c:\\users\\gleb\\anaconda3\\lib\\site-packages (from pandas>=0.24.0->yfinance) (2.8.2)\n",
      "Requirement already satisfied: pytz>=2020.1 in c:\\users\\gleb\\anaconda3\\lib\\site-packages (from pandas>=0.24.0->yfinance) (2021.3)\n",
      "Requirement already satisfied: six>=1.5 in c:\\users\\gleb\\anaconda3\\lib\\site-packages (from python-dateutil>=2.8.1->pandas>=0.24.0->yfinance) (1.16.0)\n",
      "Requirement already satisfied: urllib3<1.27,>=1.21.1 in c:\\users\\gleb\\anaconda3\\lib\\site-packages (from requests>=2.26->yfinance) (1.26.9)\n",
      "Requirement already satisfied: charset-normalizer~=2.0.0 in c:\\users\\gleb\\anaconda3\\lib\\site-packages (from requests>=2.26->yfinance) (2.0.4)\n",
      "Requirement already satisfied: idna<4,>=2.5 in c:\\users\\gleb\\anaconda3\\lib\\site-packages (from requests>=2.26->yfinance) (3.3)\n",
      "Requirement already satisfied: certifi>=2017.4.17 in c:\\users\\gleb\\anaconda3\\lib\\site-packages (from requests>=2.26->yfinance) (2021.10.8)\n"
     ]
    }
   ],
   "source": [
    "!pip install yfinance"
   ]
  },
  {
   "cell_type": "code",
   "execution_count": 3,
   "metadata": {
    "id": "zXkk6LzElFfO"
   },
   "outputs": [],
   "source": [
    "import numpy as np\n",
    "import pandas as pd\n",
    "import yfinance as yf\n",
    "from scipy.stats import skew, kurtosis"
   ]
  },
  {
   "cell_type": "code",
   "execution_count": null,
   "metadata": {
    "colab": {
     "base_uri": "https://localhost:8080/"
    },
    "id": "GrWlJWnolRTW",
    "outputId": "605e0d01-b3d1-4ecc-8a6a-29389b4acec0"
   },
   "outputs": [
    {
     "name": "stdout",
     "output_type": "stream",
     "text": [
      "\r",
      "[*********************100%***********************]  1 of 1 completed\n"
     ]
    },
    {
     "data": {
      "text/plain": [
       "Date\n",
       "2014-03-28    0.002740\n",
       "2014-03-31   -0.005393\n",
       "2014-04-01    0.018295\n",
       "2014-04-02   -0.000282\n",
       "2014-04-03    0.004833\n",
       "                ...   \n",
       "2021-12-06    0.008953\n",
       "2021-12-07    0.029486\n",
       "2021-12-08    0.004620\n",
       "2021-12-09   -0.004132\n",
       "2021-12-10    0.003842\n",
       "Name: Adj Close, Length: 1942, dtype: float64"
      ]
     },
     "execution_count": 18,
     "metadata": {},
     "output_type": "execute_result"
    }
   ],
   "source": [
    "# Import some data\n",
    "df = yf.download(\"GOOG\")[\"Adj Close\"].pct_change(1).dropna()\n",
    "df"
   ]
  },
  {
   "cell_type": "markdown",
   "metadata": {
    "id": "p2tZo7CLlq4m"
   },
   "source": [
    "# Central tendency measure"
   ]
  },
  {
   "cell_type": "markdown",
   "metadata": {
    "id": "cg6J8vRRmSu1"
   },
   "source": [
    "### Mean"
   ]
  },
  {
   "cell_type": "code",
   "execution_count": null,
   "metadata": {
    "colab": {
     "base_uri": "https://localhost:8080/"
    },
    "id": "eC4A85lHlscK",
    "outputId": "c9006894-a3d3-4e11-c3a1-c360a8a21113"
   },
   "outputs": [
    {
     "name": "stdout",
     "output_type": "stream",
     "text": [
      "Daily Mean: 0.10 %\n",
      "Mean Annual: 25.10 % \n",
      "Monthly Mean: 2.09 %\n"
     ]
    }
   ],
   "source": [
    "# -------- Mean with numpy ------------\n",
    "mean = np.mean(df, axis=0)*100\n",
    "print(f\"Daily Mean: {'%.2f' % mean} %\")\n",
    "\n",
    "# Annualization of the mean return\n",
    "annual_mean = mean * 252\n",
    "print(f\"Mean Annual: {'%.2f' % annual_mean} % \")\n",
    "\n",
    "# day mean return --> monthly mean return\n",
    "monthly_mean = mean * 21\n",
    "print(f\"Monthly Mean: {'%.2f' % monthly_mean} %\")"
   ]
  },
  {
   "cell_type": "markdown",
   "metadata": {
    "id": "i8b9avWkls4a"
   },
   "source": [
    "### Median"
   ]
  },
  {
   "cell_type": "code",
   "execution_count": null,
   "metadata": {
    "id": "8dcfWTX7lte-"
   },
   "outputs": [],
   "source": [
    "# -------- Median with numpy ------------\n",
    "median = np.median(df, axis=0)*100\n",
    "print(f\"Daily Median: {'%.2f' % median} %\")\n",
    "\n",
    "# Annualization of the mean return\n",
    "annual_median = median * 252\n",
    "print(f\"Yearly Median: {'%.2f' % annual_median} % \")\n",
    "\n",
    "# day mean return --> monthly mean return\n",
    "monthly_median = median * 21\n",
    "print(f\"Monthly Median: {'%.2f' % monthly_median} %\")"
   ]
  },
  {
   "cell_type": "markdown",
   "metadata": {
    "id": "IuPxPFuJlVzt"
   },
   "source": [
    "### Centile"
   ]
  },
  {
   "cell_type": "code",
   "execution_count": null,
   "metadata": {
    "colab": {
     "base_uri": "https://localhost:8080/"
    },
    "id": "-wiCbE5slZCd",
    "outputId": "deb830c9-2d4d-49e2-e12a-8395113a6a04"
   },
   "outputs": [
    {
     "name": "stdout",
     "output_type": "stream",
     "text": [
      "Centile 10%: -1.63 %\n",
      "Centile 50%: 0.10 %\n",
      "Centile 99%: 4.27 %\n"
     ]
    }
   ],
   "source": [
    "# -------- Centile with numpy ------------\n",
    "centile_10 = np.quantile(df, 0.1, axis=0)*100\n",
    "print(f\"Centile 10%: {'%.2f' % centile_10} %\")\n",
    "\n",
    "centile_50 = np.quantile(df, 0.5, axis=0)*100\n",
    "print(f\"Centile 50%: {'%.2f' % centile_50} %\")\n",
    "\n",
    "centile_99 = np.quantile(df, 0.99, axis=0)*100\n",
    "print(f\"Centile 99%: {'%.2f' % centile_99} %\")"
   ]
  },
  {
   "cell_type": "markdown",
   "metadata": {
    "id": "PFYSeX7mluW_"
   },
   "source": [
    "# Standard dispersion measurement"
   ]
  },
  {
   "cell_type": "markdown",
   "metadata": {
    "id": "it_t8g9flvj_"
   },
   "source": [
    "### Variance"
   ]
  },
  {
   "cell_type": "code",
   "execution_count": null,
   "metadata": {
    "colab": {
     "base_uri": "https://localhost:8080/"
    },
    "id": "53hf0BApnAVD",
    "outputId": "4b9ba3c0-c70d-423d-e93a-7dff93e47cf9"
   },
   "outputs": [
    {
     "name": "stdout",
     "output_type": "stream",
     "text": [
      "Daily Median: 0.03 %\n",
      "Median Annual: 6.75 % \n",
      "Monthly Mean: 0.56 %\n"
     ]
    }
   ],
   "source": [
    "# -------- Variance with numpy ------------\n",
    "var = np.var(df, axis=0)*100\n",
    "print(f\"Daily Median: {'%.2f' % var} %\")\n",
    "\n",
    "# Annualization of the mean return\n",
    "annual_var = var * 252\n",
    "print(f\"Median Annual: {'%.2f' % annual_var} % \")\n",
    "\n",
    "# day mean return --> monthly mean return\n",
    "monthly_var = var * 21\n",
    "print(f\"Monthly Mean: {'%.2f' % monthly_var} %\")"
   ]
  },
  {
   "cell_type": "markdown",
   "metadata": {
    "id": "K6ztZywPlveM"
   },
   "source": [
    "### Standard deviation"
   ]
  },
  {
   "cell_type": "code",
   "execution_count": null,
   "metadata": {
    "colab": {
     "base_uri": "https://localhost:8080/"
    },
    "id": "AVYHBUH8nCLj",
    "outputId": "d4b55bca-ac59-43ad-e76e-5317dabf5446"
   },
   "outputs": [
    {
     "name": "stdout",
     "output_type": "stream",
     "text": [
      "Daily Volatility: 1.64 %\n",
      "Annual Volatility: 25.98 % \n",
      "Monthly Volatility: 7.50 %\n"
     ]
    }
   ],
   "source": [
    "# -------- Stadard-Deviation with numpy ------------\n",
    "std = np.std(df, axis=0)*100\n",
    "print(f\"Daily Volatility: {'%.2f' % std} %\")\n",
    "\n",
    "# Annualization of the mean return\n",
    "annual_std = std * np.sqrt(252)\n",
    "print(f\"Annual Volatility: {'%.2f' % annual_std} % \")\n",
    "\n",
    "# day mean return --> monthly mean return\n",
    "monthly_std = std * np.sqrt(21)\n",
    "print(f\"Monthly Volatility: {'%.2f' % monthly_std} %\")"
   ]
  },
  {
   "cell_type": "markdown",
   "metadata": {
    "id": "QiUm_ssInj3S"
   },
   "source": [
    "### Skweness"
   ]
  },
  {
   "cell_type": "code",
   "execution_count": null,
   "metadata": {
    "colab": {
     "base_uri": "https://localhost:8080/"
    },
    "id": "7MLNVSYxnlIM",
    "outputId": "ba4f61d4-d982-4797-e2a2-09fde1f17bca"
   },
   "outputs": [
    {
     "name": "stdout",
     "output_type": "stream",
     "text": [
      "Skweness: 0.47 \n"
     ]
    }
   ],
   "source": [
    "# -------- Skweness with numpy ------------\n",
    "skw = skew(df)\n",
    "print(f\"Skweness: {'%.2f' % skw} \")"
   ]
  },
  {
   "cell_type": "markdown",
   "metadata": {
    "id": "uAT1Fbxjnmo8"
   },
   "source": [
    "### Kurtosis"
   ]
  },
  {
   "cell_type": "code",
   "execution_count": null,
   "metadata": {
    "colab": {
     "base_uri": "https://localhost:8080/"
    },
    "id": "DTDPx8sQnoKt",
    "outputId": "db2a605a-23d2-434d-e1ae-09d52fc2906b"
   },
   "outputs": [
    {
     "name": "stdout",
     "output_type": "stream",
     "text": [
      "Kurtosis: 9.68\n"
     ]
    }
   ],
   "source": [
    "# -------- Kurtosis with numpy ------------\n",
    "kurto = kurtosis(df)\n",
    "print(f\"Kurtosis: {'%.2f' % kurto}\")"
   ]
  },
  {
   "cell_type": "markdown",
   "metadata": {
    "id": "PifaiEO_lvRr"
   },
   "source": [
    "# Relationship measurement"
   ]
  },
  {
   "cell_type": "markdown",
   "metadata": {
    "id": "0frdccR1lutn"
   },
   "source": [
    "### Variance Covariance matrix"
   ]
  },
  {
   "cell_type": "code",
   "execution_count": null,
   "metadata": {
    "colab": {
     "base_uri": "https://localhost:8080/"
    },
    "id": "2QHnKYZdg9QP",
    "outputId": "5cb337b4-6b2d-4767-b0e5-2611b9f85e06"
   },
   "outputs": [
    {
     "name": "stdout",
     "output_type": "stream",
     "text": [
      "[*********************100%***********************]  2 of 2 completed\n"
     ]
    }
   ],
   "source": [
    "# Import several assets\n",
    "df = yf.download([\"GOOG\",\"EURUSD=X\"])[\"Adj Close\"].pct_change(1).dropna()"
   ]
  },
  {
   "cell_type": "code",
   "execution_count": null,
   "metadata": {
    "colab": {
     "base_uri": "https://localhost:8080/"
    },
    "id": "S0ugetwlnKGc",
    "outputId": "fda71381-6bd2-41e0-f94b-33ac053bfe04"
   },
   "outputs": [
    {
     "data": {
      "text/plain": [
       "array([[ 2.40234701e-05, -1.13876470e-06],\n",
       "       [-1.13876470e-06,  2.58833065e-04]])"
      ]
     },
     "execution_count": 11,
     "metadata": {},
     "output_type": "execute_result"
    }
   ],
   "source": [
    "# Variance Covariance matrix\n",
    "mat = np.cov(df, rowvar=False)\n",
    "mat"
   ]
  },
  {
   "cell_type": "markdown",
   "metadata": {
    "id": "99XR-ZVYlvId"
   },
   "source": [
    "### Covariance"
   ]
  },
  {
   "cell_type": "code",
   "execution_count": null,
   "metadata": {
    "colab": {
     "base_uri": "https://localhost:8080/"
    },
    "id": "4sToNOY5nQ1s",
    "outputId": "3b5cf512-3c34-4195-e4e6-146c38f1471e"
   },
   "outputs": [
    {
     "data": {
      "text/plain": [
       "-1.1387646967552557e-06"
      ]
     },
     "execution_count": 12,
     "metadata": {},
     "output_type": "execute_result"
    }
   ],
   "source": [
    "# Covariance\n",
    "mat[0][1]"
   ]
  },
  {
   "cell_type": "markdown",
   "metadata": {
    "id": "cn1dVDfPh_84"
   },
   "source": [
    "### Correlation"
   ]
  },
  {
   "cell_type": "code",
   "execution_count": null,
   "metadata": {
    "colab": {
     "base_uri": "https://localhost:8080/",
     "height": 111
    },
    "id": "uDCl-IDeh-bE",
    "outputId": "f2f9cb44-698d-4c2a-dbb3-de773ee44c8e"
   },
   "outputs": [
    {
     "data": {
      "text/html": [
       "<div>\n",
       "<style scoped>\n",
       "    .dataframe tbody tr th:only-of-type {\n",
       "        vertical-align: middle;\n",
       "    }\n",
       "\n",
       "    .dataframe tbody tr th {\n",
       "        vertical-align: top;\n",
       "    }\n",
       "\n",
       "    .dataframe thead th {\n",
       "        text-align: right;\n",
       "    }\n",
       "</style>\n",
       "<table border=\"1\" class=\"dataframe\">\n",
       "  <thead>\n",
       "    <tr style=\"text-align: right;\">\n",
       "      <th></th>\n",
       "      <th>EURUSD=X</th>\n",
       "      <th>GOOG</th>\n",
       "    </tr>\n",
       "  </thead>\n",
       "  <tbody>\n",
       "    <tr>\n",
       "      <th>EURUSD=X</th>\n",
       "      <td>1.000000</td>\n",
       "      <td>-0.014441</td>\n",
       "    </tr>\n",
       "    <tr>\n",
       "      <th>GOOG</th>\n",
       "      <td>-0.014441</td>\n",
       "      <td>1.000000</td>\n",
       "    </tr>\n",
       "  </tbody>\n",
       "</table>\n",
       "</div>"
      ],
      "text/plain": [
       "          EURUSD=X      GOOG\n",
       "EURUSD=X  1.000000 -0.014441\n",
       "GOOG     -0.014441  1.000000"
      ]
     },
     "execution_count": 13,
     "metadata": {},
     "output_type": "execute_result"
    }
   ],
   "source": [
    "# Correlation matrix\n",
    "df.corr()"
   ]
  },
  {
   "cell_type": "markdown",
   "metadata": {
    "id": "RH1GSNFgj2Je"
   },
   "source": [
    "# EXERCISES"
   ]
  },
  {
   "cell_type": "markdown",
   "metadata": {
    "id": "-pUpScZZj7N1"
   },
   "source": [
    "### Exercise 1: Compute the **annualized risk return** couple for Microsoft stock price (Yahoo symbol: MSFT). Don't forget to use the variations price"
   ]
  },
  {
   "cell_type": "code",
   "execution_count": null,
   "metadata": {
    "colab": {
     "base_uri": "https://localhost:8080/"
    },
    "id": "ODWMcx4tj6fR",
    "outputId": "4b1c3b88-8aec-4b20-e0fe-b594baadad8d"
   },
   "outputs": [
    {
     "name": "stdout",
     "output_type": "stream",
     "text": [
      "\r",
      "[*********************100%***********************]  1 of 1 completed\n",
      "MSFT | \t returns: 29.85 % \t volatility: 33.81 %\n"
     ]
    }
   ],
   "source": [
    "# Import the prices\n",
    "df = yf.download(\"MSFT\")[\"Adj Close\"].pct_change(1).dropna()\n",
    "\n",
    "# Compute risk return\n",
    "mean = np.mean(df) * 252 * 100\n",
    "vol = np.std(df) * np.sqrt(252) * 100\n",
    "\n",
    "print(f\"MSFT | \\t returns: {'%.2f' % mean} % \\t volatility: {'%.2f' % vol} %\")"
   ]
  },
  {
   "cell_type": "markdown",
   "metadata": {
    "id": "sL5YN_fDoWXk"
   },
   "source": [
    "### Exercise 2: Compute the covariance and the correlation matrix for the following assets: [\"AMZN\", \"MSFT\", \"GOOG\", \"EURUSD=X\", \"BTC-USD\"]"
   ]
  },
  {
   "cell_type": "code",
   "execution_count": null,
   "metadata": {
    "colab": {
     "base_uri": "https://localhost:8080/",
     "height": 221
    },
    "id": "EnVzvLzfoDqg",
    "outputId": "c7f2c187-2d99-4a24-fc8e-2071329ac6a8"
   },
   "outputs": [
    {
     "name": "stdout",
     "output_type": "stream",
     "text": [
      "[*********************100%***********************]  5 of 5 completed\n"
     ]
    },
    {
     "data": {
      "text/html": [
       "<div>\n",
       "<style scoped>\n",
       "    .dataframe tbody tr th:only-of-type {\n",
       "        vertical-align: middle;\n",
       "    }\n",
       "\n",
       "    .dataframe tbody tr th {\n",
       "        vertical-align: top;\n",
       "    }\n",
       "\n",
       "    .dataframe thead th {\n",
       "        text-align: right;\n",
       "    }\n",
       "</style>\n",
       "<table border=\"1\" class=\"dataframe\">\n",
       "  <thead>\n",
       "    <tr style=\"text-align: right;\">\n",
       "      <th></th>\n",
       "      <th>AMZN</th>\n",
       "      <th>BTC-USD</th>\n",
       "      <th>EURUSD=X</th>\n",
       "      <th>GOOG</th>\n",
       "      <th>MSFT</th>\n",
       "    </tr>\n",
       "  </thead>\n",
       "  <tbody>\n",
       "    <tr>\n",
       "      <th>AMZN</th>\n",
       "      <td>2.480388e-04</td>\n",
       "      <td>0.000042</td>\n",
       "      <td>-2.160787e-07</td>\n",
       "      <td>1.383901e-04</td>\n",
       "      <td>0.000140</td>\n",
       "    </tr>\n",
       "    <tr>\n",
       "      <th>BTC-USD</th>\n",
       "      <td>4.191048e-05</td>\n",
       "      <td>0.001521</td>\n",
       "      <td>-1.706122e-06</td>\n",
       "      <td>5.484372e-05</td>\n",
       "      <td>0.000065</td>\n",
       "    </tr>\n",
       "    <tr>\n",
       "      <th>EURUSD=X</th>\n",
       "      <td>-2.160787e-07</td>\n",
       "      <td>-0.000002</td>\n",
       "      <td>1.793829e-05</td>\n",
       "      <td>-8.180438e-07</td>\n",
       "      <td>-0.000001</td>\n",
       "    </tr>\n",
       "    <tr>\n",
       "      <th>GOOG</th>\n",
       "      <td>1.383901e-04</td>\n",
       "      <td>0.000055</td>\n",
       "      <td>-8.180438e-07</td>\n",
       "      <td>1.888534e-04</td>\n",
       "      <td>0.000138</td>\n",
       "    </tr>\n",
       "    <tr>\n",
       "      <th>MSFT</th>\n",
       "      <td>1.400978e-04</td>\n",
       "      <td>0.000065</td>\n",
       "      <td>-1.026322e-06</td>\n",
       "      <td>1.383320e-04</td>\n",
       "      <td>0.000196</td>\n",
       "    </tr>\n",
       "  </tbody>\n",
       "</table>\n",
       "</div>"
      ],
      "text/plain": [
       "                  AMZN   BTC-USD      EURUSD=X          GOOG      MSFT\n",
       "AMZN      2.480388e-04  0.000042 -2.160787e-07  1.383901e-04  0.000140\n",
       "BTC-USD   4.191048e-05  0.001521 -1.706122e-06  5.484372e-05  0.000065\n",
       "EURUSD=X -2.160787e-07 -0.000002  1.793829e-05 -8.180438e-07 -0.000001\n",
       "GOOG      1.383901e-04  0.000055 -8.180438e-07  1.888534e-04  0.000138\n",
       "MSFT      1.400978e-04  0.000065 -1.026322e-06  1.383320e-04  0.000196"
      ]
     },
     "execution_count": 35,
     "metadata": {},
     "output_type": "execute_result"
    }
   ],
   "source": [
    "df = yf.download([\"AMZN\", \"MSFT\", \"GOOG\", \"EURUSD=X\", \"BTC-USD\"])[\"Adj Close\"].pct_change(1).dropna()\n",
    "df.cov()"
   ]
  },
  {
   "cell_type": "code",
   "execution_count": null,
   "metadata": {
    "colab": {
     "base_uri": "https://localhost:8080/",
     "height": 204
    },
    "id": "GtXEcqHKo-0O",
    "outputId": "4ca65222-3723-4600-dffe-4de646d9abe2"
   },
   "outputs": [
    {
     "data": {
      "text/html": [
       "<div>\n",
       "<style scoped>\n",
       "    .dataframe tbody tr th:only-of-type {\n",
       "        vertical-align: middle;\n",
       "    }\n",
       "\n",
       "    .dataframe tbody tr th {\n",
       "        vertical-align: top;\n",
       "    }\n",
       "\n",
       "    .dataframe thead th {\n",
       "        text-align: right;\n",
       "    }\n",
       "</style>\n",
       "<table border=\"1\" class=\"dataframe\">\n",
       "  <thead>\n",
       "    <tr style=\"text-align: right;\">\n",
       "      <th></th>\n",
       "      <th>AMZN</th>\n",
       "      <th>BTC-USD</th>\n",
       "      <th>EURUSD=X</th>\n",
       "      <th>GOOG</th>\n",
       "      <th>MSFT</th>\n",
       "    </tr>\n",
       "  </thead>\n",
       "  <tbody>\n",
       "    <tr>\n",
       "      <th>AMZN</th>\n",
       "      <td>1.000000</td>\n",
       "      <td>0.068243</td>\n",
       "      <td>-0.003239</td>\n",
       "      <td>0.639415</td>\n",
       "      <td>0.635379</td>\n",
       "    </tr>\n",
       "    <tr>\n",
       "      <th>BTC-USD</th>\n",
       "      <td>0.068243</td>\n",
       "      <td>1.000000</td>\n",
       "      <td>-0.010330</td>\n",
       "      <td>0.102344</td>\n",
       "      <td>0.119769</td>\n",
       "    </tr>\n",
       "    <tr>\n",
       "      <th>EURUSD=X</th>\n",
       "      <td>-0.003239</td>\n",
       "      <td>-0.010330</td>\n",
       "      <td>1.000000</td>\n",
       "      <td>-0.014055</td>\n",
       "      <td>-0.017308</td>\n",
       "    </tr>\n",
       "    <tr>\n",
       "      <th>GOOG</th>\n",
       "      <td>0.639415</td>\n",
       "      <td>0.102344</td>\n",
       "      <td>-0.014055</td>\n",
       "      <td>1.000000</td>\n",
       "      <td>0.718987</td>\n",
       "    </tr>\n",
       "    <tr>\n",
       "      <th>MSFT</th>\n",
       "      <td>0.635379</td>\n",
       "      <td>0.119769</td>\n",
       "      <td>-0.017308</td>\n",
       "      <td>0.718987</td>\n",
       "      <td>1.000000</td>\n",
       "    </tr>\n",
       "  </tbody>\n",
       "</table>\n",
       "</div>"
      ],
      "text/plain": [
       "              AMZN   BTC-USD  EURUSD=X      GOOG      MSFT\n",
       "AMZN      1.000000  0.068243 -0.003239  0.639415  0.635379\n",
       "BTC-USD   0.068243  1.000000 -0.010330  0.102344  0.119769\n",
       "EURUSD=X -0.003239 -0.010330  1.000000 -0.014055 -0.017308\n",
       "GOOG      0.639415  0.102344 -0.014055  1.000000  0.718987\n",
       "MSFT      0.635379  0.119769 -0.017308  0.718987  1.000000"
      ]
     },
     "execution_count": 36,
     "metadata": {},
     "output_type": "execute_result"
    }
   ],
   "source": [
    "df.corr()"
   ]
  },
  {
   "cell_type": "code",
   "execution_count": null,
   "metadata": {
    "id": "YqYQndrSpAIz"
   },
   "outputs": [],
   "source": []
  }
 ],
 "metadata": {
  "colab": {
   "collapsed_sections": [],
   "name": "EN - S&P Chapter 1: Descriptive Statistics.ipynb",
   "provenance": []
  },
  "kernelspec": {
   "display_name": "Python 3 (ipykernel)",
   "language": "python",
   "name": "python3"
  },
  "language_info": {
   "codemirror_mode": {
    "name": "ipython",
    "version": 3
   },
   "file_extension": ".py",
   "mimetype": "text/x-python",
   "name": "python",
   "nbconvert_exporter": "python",
   "pygments_lexer": "ipython3",
   "version": "3.9.12"
  }
 },
 "nbformat": 4,
 "nbformat_minor": 1
}
